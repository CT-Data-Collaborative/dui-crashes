{
 "cells": [
  {
   "cell_type": "markdown",
   "metadata": {},
   "source": [
    "# Pull DUI Reports from UCONN Crash Repository for each town\n",
    "\n",
    "This Jupyter notebook pulls DUI Report town data from the basic query tool of UCONN Crash Data Repository."
   ]
  },
  {
   "cell_type": "code",
   "execution_count": 1,
   "metadata": {},
   "outputs": [],
   "source": [
    "import pandas as pd\n",
    "import requests\n",
    "import json\n",
    "import csv"
   ]
  },
  {
   "cell_type": "code",
   "execution_count": 2,
   "metadata": {},
   "outputs": [],
   "source": [
    "# Disable InsecureRequestWarning warnings\n",
    "# Taken from https://stackoverflow.com/questions/27981545/suppress-insecurerequestwarning-unverified-https-request-is-being-made-in-pytho\n",
    "import urllib3\n",
    "urllib3.disable_warnings(urllib3.exceptions.InsecureRequestWarning)"
   ]
  },
  {
   "cell_type": "markdown",
   "metadata": {},
   "source": [
    "## Define a function to pull JSON data from an individual town"
   ]
  },
  {
   "cell_type": "code",
   "execution_count": 3,
   "metadata": {},
   "outputs": [],
   "source": [
    "# Given the town ID, returns \n",
    "def get_town_report(town_id):\n",
    "    \n",
    "    base = 'https://www.ctcrash.uconn.edu/GetGrantReportResults.action'\n",
    "\n",
    "    r = requests.post(base, params={\n",
    "            'Accept': 'text/html,application/xhtml+xml,application/xml;q=0.9,image/webp,*/*;q=0.8',\n",
    "            'Accept-Encoding': 'gzip, deflate, br',\n",
    "            'Accept-Language': 'en-US,en;q=0.5',\n",
    "            'Connection': 'keep-alive',\n",
    "            'Content-Length': '304',\n",
    "            'Content-Type': 'application/x-www-form-urlencoded; charset=UTF-8',\n",
    "            'DNT': '1',\n",
    "            'Host': 'www.ctcrash.uconn.edu',\n",
    "            'Upgrade-Insecure-Requests': '1',\n",
    "            'User-Agent': 'Mozilla/5.0 (Macintosh; Intel Mac OS X 10.15; rv:82.0) Gecko/20100101 Firefox/82.0'\n",
    "        }, data={\n",
    "            \"formInput\": '{\"start\":\"2015\",\"end\":\"2020\",\"report\":\"grant_DUI\",\"title\":\"\",\"route_class\":[\"-1\"],\"ru\":[\"-1\"],\"location\":{\"scid\":11,\"val\":\"'\n",
    "                + str(town_id)\n",
    "                + '\",\"mapid\":null},\"dataset\":\"CAS2MMUCC\"}'\n",
    "        }, verify=False)\n",
    "    \n",
    "    return json.loads( r.text )"
   ]
  },
  {
   "cell_type": "markdown",
   "metadata": {},
   "source": [
    "## Fetch data for all towns\n",
    "* Takes several minutes to complete"
   ]
  },
  {
   "cell_type": "code",
   "execution_count": 4,
   "metadata": {},
   "outputs": [],
   "source": [
    "towns = pd.read_csv('id2town.csv')\n",
    "towns['response'] = towns.id.apply(get_town_report)"
   ]
  },
  {
   "cell_type": "markdown",
   "metadata": {},
   "source": [
    "### Generate three dataframes (crashes, fatalities, injuries)"
   ]
  },
  {
   "cell_type": "code",
   "execution_count": 5,
   "metadata": {},
   "outputs": [
    {
     "name": "stderr",
     "output_type": "stream",
     "text": [
      "/Users/ilyankou/anaconda3/lib/python3.7/site-packages/ipykernel_launcher.py:10: FutureWarning: Dropping of nuisance columns in DataFrame reductions (with 'numeric_only=None') is deprecated; in a future version this will raise TypeError.  Select only valid columns before calling the reduction.\n",
      "  # Remove the CWD from sys.path while we load stuff.\n"
     ]
    }
   ],
   "source": [
    "def get_matrix(data, col):\n",
    "    df = data.filter(['town', 'response'])\n",
    "    df[col] = df.response.apply(lambda x: {year: count for year, count in x[col]})\n",
    "    \n",
    "    for year in range(2015, 2021):\n",
    "        year = str(year)\n",
    "        df[year] = df[col].apply(lambda x: int(x[year]) if year in x else 0)\n",
    "        \n",
    "    # Sum up to get CT towns by year\n",
    "    ct = df.sum().rename('Connecticut')\n",
    "    ct['town'] = 'Connecticut'\n",
    "    \n",
    "    return df.append(ct).filter(['town', '2015', '2016', '2017', '2018', '2019', '2020']).melt(id_vars='town', var_name='Year')\n",
    "\n",
    "\n",
    "# Crashes\n",
    "crashes = get_matrix(towns, 'totalCrashes')\n",
    "crashes['Variable'] = 'DUI Crashes'\n",
    "\n",
    "# Fatalities\n",
    "fatalities = get_matrix(towns, 'fatalities')\n",
    "fatalities['Variable'] = 'DUI Fatalities'\n",
    "\n",
    "# Injuries\n",
    "injuries = get_matrix(towns, 'injuries')\n",
    "injuries['Variable'] = 'DUI Injuries'"
   ]
  },
  {
   "cell_type": "markdown",
   "metadata": {},
   "source": [
    "### Combine dataframes into a single one"
   ]
  },
  {
   "cell_type": "code",
   "execution_count": 6,
   "metadata": {},
   "outputs": [],
   "source": [
    "dui = pd.concat([ crashes, fatalities, injuries ]).sort_values(['town', 'Year'])\n",
    "dui['Measure Type'] = 'Number'"
   ]
  },
  {
   "cell_type": "markdown",
   "metadata": {},
   "source": [
    "### Add FIPS column"
   ]
  },
  {
   "cell_type": "code",
   "execution_count": 7,
   "metadata": {},
   "outputs": [],
   "source": [
    "fips2town = pd.read_csv(\n",
    "    'https://raw.githubusercontent.com/CT-Data-Collaborative/ct-town-county-fips-list/master/ct-town-county-fips-list.csv',\n",
    "    usecols=['Town', 'FIPS'],\n",
    "    dtype={'FIPS': str}\n",
    ")\n",
    "\n",
    "final = dui.merge(fips2town, how='left', left_on='town', right_on='Town')\n",
    "final.FIPS = final.FIPS.fillna('09')"
   ]
  },
  {
   "cell_type": "markdown",
   "metadata": {},
   "source": [
    "### Save"
   ]
  },
  {
   "cell_type": "code",
   "execution_count": 8,
   "metadata": {},
   "outputs": [],
   "source": [
    "final.filter(['town', 'FIPS', 'Year', 'Measure Type', 'Variable', 'value']).rename(columns={\n",
    "    'town': 'Town',\n",
    "    'value': 'Value'\n",
    "}).to_csv('data/dui-crashes-2015-2020.csv', index=False, quoting=csv.QUOTE_NONNUMERIC)"
   ]
  },
  {
   "cell_type": "code",
   "execution_count": null,
   "metadata": {},
   "outputs": [],
   "source": []
  }
 ],
 "metadata": {
  "kernelspec": {
   "display_name": "Python 3",
   "language": "python",
   "name": "python3"
  },
  "language_info": {
   "codemirror_mode": {
    "name": "ipython",
    "version": 3
   },
   "file_extension": ".py",
   "mimetype": "text/x-python",
   "name": "python",
   "nbconvert_exporter": "python",
   "pygments_lexer": "ipython3",
   "version": "3.7.3"
  }
 },
 "nbformat": 4,
 "nbformat_minor": 4
}
